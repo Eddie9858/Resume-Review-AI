{
 "cells": [
  {
   "cell_type": "code",
   "execution_count": 1,
   "id": "baf938c6-538e-44c1-9f2d-b7544d651a02",
   "metadata": {
    "jupyter": {
     "source_hidden": true
    },
    "tags": []
   },
   "outputs": [],
   "source": [
    "# !export PATH=/usr/local/cuda-11.8/bin:$PATH\n",
    "# !export LD_LIBRARY_PATH=/usr/local/cuda-11.8/lib64:$LD_LIBRARY_PATH"
   ]
  },
  {
   "cell_type": "code",
   "execution_count": 2,
   "id": "bc88c753-9f4d-4508-89de-3f911f1ecdf6",
   "metadata": {
    "jupyter": {
     "source_hidden": true
    },
    "tags": []
   },
   "outputs": [
    {
     "name": "stderr",
     "output_type": "stream",
     "text": [
      "2024-05-08 16:49:16.498110: I tensorflow/core/util/port.cc:111] oneDNN custom operations are on. You may see slightly different numerical results due to floating-point round-off errors from different computation orders. To turn them off, set the environment variable `TF_ENABLE_ONEDNN_OPTS=0`.\n",
      "2024-05-08 16:49:16.534042: E tensorflow/compiler/xla/stream_executor/cuda/cuda_dnn.cc:9342] Unable to register cuDNN factory: Attempting to register factory for plugin cuDNN when one has already been registered\n",
      "2024-05-08 16:49:16.534083: E tensorflow/compiler/xla/stream_executor/cuda/cuda_fft.cc:609] Unable to register cuFFT factory: Attempting to register factory for plugin cuFFT when one has already been registered\n",
      "2024-05-08 16:49:16.534133: E tensorflow/compiler/xla/stream_executor/cuda/cuda_blas.cc:1518] Unable to register cuBLAS factory: Attempting to register factory for plugin cuBLAS when one has already been registered\n",
      "2024-05-08 16:49:16.543120: I tensorflow/core/platform/cpu_feature_guard.cc:182] This TensorFlow binary is optimized to use available CPU instructions in performance-critical operations.\n",
      "To enable the following instructions: AVX2 AVX_VNNI FMA, in other operations, rebuild TensorFlow with the appropriate compiler flags.\n",
      "2024-05-08 16:49:17.458684: W tensorflow/compiler/tf2tensorrt/utils/py_utils.cc:38] TF-TRT Warning: Could not find TensorRT\n"
     ]
    },
    {
     "name": "stdout",
     "output_type": "stream",
     "text": [
      "True\n",
      "[PhysicalDevice(name='/physical_device:GPU:0', device_type='GPU')]\n"
     ]
    },
    {
     "name": "stderr",
     "output_type": "stream",
     "text": [
      "2024-05-08 16:49:18.472024: I tensorflow/compiler/xla/stream_executor/cuda/cuda_gpu_executor.cc:880] could not open file to read NUMA node: /sys/bus/pci/devices/0000:02:00.0/numa_node\n",
      "Your kernel may have been built without NUMA support.\n",
      "2024-05-08 16:49:18.509133: I tensorflow/compiler/xla/stream_executor/cuda/cuda_gpu_executor.cc:880] could not open file to read NUMA node: /sys/bus/pci/devices/0000:02:00.0/numa_node\n",
      "Your kernel may have been built without NUMA support.\n",
      "2024-05-08 16:49:18.509800: I tensorflow/compiler/xla/stream_executor/cuda/cuda_gpu_executor.cc:880] could not open file to read NUMA node: /sys/bus/pci/devices/0000:02:00.0/numa_node\n",
      "Your kernel may have been built without NUMA support.\n"
     ]
    }
   ],
   "source": [
    "import tensorflow as tf\n",
    "print(tf.test.is_built_with_cuda())\n",
    "print(tf.config.list_physical_devices('GPU'))"
   ]
  },
  {
   "cell_type": "code",
   "execution_count": 3,
   "id": "bf3fc39e-1cd5-4083-a9fb-4259e8fbf4fb",
   "metadata": {
    "jupyter": {
     "source_hidden": true
    },
    "tags": []
   },
   "outputs": [
    {
     "name": "stdout",
     "output_type": "stream",
     "text": [
      "TensorFlow GPU device name: /device:GPU:0\n"
     ]
    },
    {
     "name": "stderr",
     "output_type": "stream",
     "text": [
      "2024-05-08 16:49:18.521887: I tensorflow/compiler/xla/stream_executor/cuda/cuda_gpu_executor.cc:880] could not open file to read NUMA node: /sys/bus/pci/devices/0000:02:00.0/numa_node\n",
      "Your kernel may have been built without NUMA support.\n",
      "2024-05-08 16:49:18.522821: I tensorflow/compiler/xla/stream_executor/cuda/cuda_gpu_executor.cc:880] could not open file to read NUMA node: /sys/bus/pci/devices/0000:02:00.0/numa_node\n",
      "Your kernel may have been built without NUMA support.\n",
      "2024-05-08 16:49:18.523571: I tensorflow/compiler/xla/stream_executor/cuda/cuda_gpu_executor.cc:880] could not open file to read NUMA node: /sys/bus/pci/devices/0000:02:00.0/numa_node\n",
      "Your kernel may have been built without NUMA support.\n",
      "2024-05-08 16:49:18.678993: I tensorflow/compiler/xla/stream_executor/cuda/cuda_gpu_executor.cc:880] could not open file to read NUMA node: /sys/bus/pci/devices/0000:02:00.0/numa_node\n",
      "Your kernel may have been built without NUMA support.\n",
      "2024-05-08 16:49:18.679839: I tensorflow/compiler/xla/stream_executor/cuda/cuda_gpu_executor.cc:880] could not open file to read NUMA node: /sys/bus/pci/devices/0000:02:00.0/numa_node\n",
      "Your kernel may have been built without NUMA support.\n",
      "2024-05-08 16:49:18.679865: I tensorflow/core/common_runtime/gpu/gpu_device.cc:1977] Could not identify NUMA node of platform GPU id 0, defaulting to 0.  Your kernel may not have been built with NUMA support.\n",
      "2024-05-08 16:49:18.680634: I tensorflow/compiler/xla/stream_executor/cuda/cuda_gpu_executor.cc:880] could not open file to read NUMA node: /sys/bus/pci/devices/0000:02:00.0/numa_node\n",
      "Your kernel may have been built without NUMA support.\n",
      "2024-05-08 16:49:18.680670: I tensorflow/core/common_runtime/gpu/gpu_device.cc:1886] Created device /device:GPU:0 with 1781 MB memory:  -> device: 0, name: NVIDIA GeForce RTX 2050, pci bus id: 0000:02:00.0, compute capability: 8.6\n"
     ]
    }
   ],
   "source": [
    "device_name = tf.test.gpu_device_name()\n",
    "print(\"TensorFlow GPU device name:\", device_name)"
   ]
  },
  {
   "cell_type": "code",
   "execution_count": 4,
   "id": "1b56cd76-1739-48c9-b19f-be7082eadff7",
   "metadata": {
    "jupyter": {
     "source_hidden": true
    },
    "tags": []
   },
   "outputs": [
    {
     "name": "stdout",
     "output_type": "stream",
     "text": [
      "[name: \"/device:CPU:0\"\n",
      "device_type: \"CPU\"\n",
      "memory_limit: 268435456\n",
      "locality {\n",
      "}\n",
      "incarnation: 11505150092518670537\n",
      "xla_global_id: -1\n",
      ", name: \"/device:GPU:0\"\n",
      "device_type: \"GPU\"\n",
      "memory_limit: 1867513856\n",
      "locality {\n",
      "  bus_id: 1\n",
      "  links {\n",
      "  }\n",
      "}\n",
      "incarnation: 8496382716207761490\n",
      "physical_device_desc: \"device: 0, name: NVIDIA GeForce RTX 2050, pci bus id: 0000:02:00.0, compute capability: 8.6\"\n",
      "xla_global_id: 416903419\n",
      "]\n",
      "Num GPUs Available:  1\n"
     ]
    },
    {
     "name": "stderr",
     "output_type": "stream",
     "text": [
      "2024-05-08 16:49:18.694702: I tensorflow/compiler/xla/stream_executor/cuda/cuda_gpu_executor.cc:880] could not open file to read NUMA node: /sys/bus/pci/devices/0000:02:00.0/numa_node\n",
      "Your kernel may have been built without NUMA support.\n",
      "2024-05-08 16:49:18.695451: I tensorflow/compiler/xla/stream_executor/cuda/cuda_gpu_executor.cc:880] could not open file to read NUMA node: /sys/bus/pci/devices/0000:02:00.0/numa_node\n",
      "Your kernel may have been built without NUMA support.\n",
      "2024-05-08 16:49:18.696022: I tensorflow/compiler/xla/stream_executor/cuda/cuda_gpu_executor.cc:880] could not open file to read NUMA node: /sys/bus/pci/devices/0000:02:00.0/numa_node\n",
      "Your kernel may have been built without NUMA support.\n",
      "2024-05-08 16:49:18.696907: I tensorflow/compiler/xla/stream_executor/cuda/cuda_gpu_executor.cc:880] could not open file to read NUMA node: /sys/bus/pci/devices/0000:02:00.0/numa_node\n",
      "Your kernel may have been built without NUMA support.\n",
      "2024-05-08 16:49:18.696941: I tensorflow/core/common_runtime/gpu/gpu_device.cc:1977] Could not identify NUMA node of platform GPU id 0, defaulting to 0.  Your kernel may not have been built with NUMA support.\n",
      "2024-05-08 16:49:18.697583: I tensorflow/compiler/xla/stream_executor/cuda/cuda_gpu_executor.cc:880] could not open file to read NUMA node: /sys/bus/pci/devices/0000:02:00.0/numa_node\n",
      "Your kernel may have been built without NUMA support.\n",
      "2024-05-08 16:49:18.697645: I tensorflow/core/common_runtime/gpu/gpu_device.cc:1886] Created device /device:GPU:0 with 1781 MB memory:  -> device: 0, name: NVIDIA GeForce RTX 2050, pci bus id: 0000:02:00.0, compute capability: 8.6\n"
     ]
    }
   ],
   "source": [
    "from tensorflow.python.client import device_lib\n",
    "print(device_lib.list_local_devices())\n",
    "print(\"Num GPUs Available: \", len(tf.config.list_physical_devices('GPU')))"
   ]
  },
  {
   "cell_type": "code",
   "execution_count": 5,
   "id": "7b9e64dc-84cb-491d-b423-441830931913",
   "metadata": {
    "jupyter": {
     "source_hidden": true
    },
    "tags": []
   },
   "outputs": [],
   "source": [
    "# !sudo apt-get update\n",
    "# !sudo apt-get install fonts-nanum*\n",
    "# !sudo fc-cache -fv"
   ]
  },
  {
   "cell_type": "code",
   "execution_count": 6,
   "id": "762ecdec",
   "metadata": {
    "ExecuteTime": {
     "end_time": "2024-05-08T04:57:44.096760Z",
     "start_time": "2024-05-08T04:57:44.091946Z"
    }
   },
   "outputs": [],
   "source": [
    "import sys\n",
    "import os\n",
    "os.environ['TF_CPP_MIN_LOG_LEVEL']='2'"
   ]
  },
  {
   "cell_type": "code",
   "execution_count": 7,
   "id": "c474c533f1ba900d",
   "metadata": {
    "ExecuteTime": {
     "end_time": "2024-05-08T05:01:22.782299Z",
     "start_time": "2024-05-08T05:01:22.661557Z"
    },
    "collapsed": false,
    "jupyter": {
     "outputs_hidden": false
    }
   },
   "outputs": [
    {
     "name": "stdout",
     "output_type": "stream",
     "text": [
      "/mnt/c/Users/wkars/inisw/HANCOM_NVIDIA/project/pythonProject1/yrds/classification\n"
     ]
    }
   ],
   "source": [
    "!pwd"
   ]
  },
  {
   "cell_type": "code",
   "execution_count": 8,
   "id": "initial_id",
   "metadata": {
    "is_executing": true,
    "tags": []
   },
   "outputs": [
    {
     "data": {
      "text/html": [
       "<div>\n",
       "<style scoped>\n",
       "    .dataframe tbody tr th:only-of-type {\n",
       "        vertical-align: middle;\n",
       "    }\n",
       "\n",
       "    .dataframe tbody tr th {\n",
       "        vertical-align: top;\n",
       "    }\n",
       "\n",
       "    .dataframe thead th {\n",
       "        text-align: right;\n",
       "    }\n",
       "</style>\n",
       "<table border=\"1\" class=\"dataframe\">\n",
       "  <thead>\n",
       "    <tr style=\"text-align: right;\">\n",
       "      <th></th>\n",
       "      <th>Sentence</th>\n",
       "      <th>Label</th>\n",
       "    </tr>\n",
       "  </thead>\n",
       "  <tbody>\n",
       "    <tr>\n",
       "      <th>0</th>\n",
       "      <td>고등학교 시절 모의고사 수학시험에서 4등급을 받자 누구보다 열정적으로 원인을 분석하...</td>\n",
       "      <td>성공경험</td>\n",
       "    </tr>\n",
       "    <tr>\n",
       "      <th>1</th>\n",
       "      <td>그 결과, 수능에서 이과 수학 2등급을 받았습니다.</td>\n",
       "      <td>성공경험</td>\n",
       "    </tr>\n",
       "    <tr>\n",
       "      <th>2</th>\n",
       "      <td>제출 전까지 여러 번의 수정과 팀원 개개인들의 갑작스러운 일정 변화에도 대처할 수 ...</td>\n",
       "      <td>성공경험</td>\n",
       "    </tr>\n",
       "    <tr>\n",
       "      <th>3</th>\n",
       "      <td>저는 문제가 무엇인지 팀원들과 함께 고민하였고 카메라를 DSLR로 업그레이드하고 소...</td>\n",
       "      <td>성공경험</td>\n",
       "    </tr>\n",
       "    <tr>\n",
       "      <th>4</th>\n",
       "      <td>그 이후로 저희 팀은 우수팀으로 3번 선정되었고 영상 콘테스트에서 상도 받았습니다.</td>\n",
       "      <td>성공경험</td>\n",
       "    </tr>\n",
       "  </tbody>\n",
       "</table>\n",
       "</div>"
      ],
      "text/plain": [
       "                                            Sentence Label\n",
       "0  고등학교 시절 모의고사 수학시험에서 4등급을 받자 누구보다 열정적으로 원인을 분석하...  성공경험\n",
       "1                       그 결과, 수능에서 이과 수학 2등급을 받았습니다.  성공경험\n",
       "2  제출 전까지 여러 번의 수정과 팀원 개개인들의 갑작스러운 일정 변화에도 대처할 수 ...  성공경험\n",
       "3  저는 문제가 무엇인지 팀원들과 함께 고민하였고 카메라를 DSLR로 업그레이드하고 소...  성공경험\n",
       "4     그 이후로 저희 팀은 우수팀으로 3번 선정되었고 영상 콘테스트에서 상도 받았습니다.  성공경험"
      ]
     },
     "execution_count": 8,
     "metadata": {},
     "output_type": "execute_result"
    }
   ],
   "source": [
    "import pandas as pd\n",
    "\n",
    "df =  pd.read_csv('data_v3.csv')\n",
    "df.head()"
   ]
  },
  {
   "cell_type": "code",
   "execution_count": 9,
   "id": "d9c9ea8f-8108-423d-b922-e45f735b8a23",
   "metadata": {},
   "outputs": [],
   "source": [
    "# !pip install konlpy"
   ]
  },
  {
   "cell_type": "code",
   "execution_count": 10,
   "id": "b17f83abb28353a",
   "metadata": {
    "collapsed": false,
    "jupyter": {
     "outputs_hidden": false
    }
   },
   "outputs": [],
   "source": [
    "import numpy as np\n",
    "import pandas as pd\n",
    "import seaborn as sns\n",
    "import matplotlib.pyplot as plt\n",
    "plt.rcParams['font.family'] = 'NanumGothic'\n",
    "\n",
    "from tensorflow.keras.preprocessing.sequence import pad_sequences\n",
    "from sklearn.model_selection import train_test_split\n",
    "from sklearn import preprocessing\n",
    "\n",
    "from xgboost import XGBClassifier\n",
    "from sklearn.ensemble import RandomForestClassifier\n",
    "from sklearn.ensemble import GradientBoostingClassifier\n",
    "\n",
    "from collections import Counter\n",
    "from konlpy.tag import Mecab,Okt\n",
    "\n",
    "import warnings\n",
    "warnings.filterwarnings('ignore')\n",
    "\n",
    "# import datasets\n",
    "# from datasets import load_dataset, load_metric, ClassLabel, Sequence\n",
    "\n",
    "# import gensim\n",
    "# from gensim.models import KeyedVectors\n",
    "# from gensim.models.word2vec import Word2Vec"
   ]
  },
  {
   "cell_type": "code",
   "execution_count": 11,
   "id": "b91fc75a-9b3e-4cc0-88e2-4af79eb3c64c",
   "metadata": {},
   "outputs": [
    {
     "data": {
      "image/png": "[encoded data removed]",
      "text/plain": [
       "<Figure size 640x480 with 1 Axes>"
      ]
     },
     "metadata": {},
     "output_type": "display_data"
    }
   ],
   "source": [
    "sns.set_theme(style='darkgrid')\n",
    "sns.set(font=\"NanumGothic\", \n",
    "        rc={\"axes.unicode_minus\":False},\n",
    "        style='darkgrid')\n",
    "ax = sns.countplot(x = \"Label\", data = df)"
   ]
  },
  {
   "cell_type": "code",
   "execution_count": 12,
   "id": "3cce3dde-1a8f-4379-82fc-efd7a0fb7bfd",
   "metadata": {},
   "outputs": [],
   "source": [
    "tokenizer = Okt()\n",
    "stop_words = ['의', '가','이','은','들',\n",
    "              '는','좀','잘','걍','과','를',\n",
    "              '으로','자','에','와','한','하다'\n",
    "              # , '…', '·'\n",
    "              ]\n"
   ]
  },
  {
   "cell_type": "code",
   "execution_count": 13,
   "id": "ed4d78ea-e242-44ba-93dc-5d0dfe1db6fc",
   "metadata": {},
   "outputs": [
    {
     "name": "stdout",
     "output_type": "stream",
     "text": [
      "3635\n",
      "3335\n",
      "3335\n"
     ]
    }
   ],
   "source": [
    "print(len(df))\n",
    "df.drop_duplicates(subset=['Sentence'],inplace=True)\n",
    "print(len(df))\n",
    "train = df.dropna(how='any')\n",
    "print(len(df))"
   ]
  },
  {
   "cell_type": "code",
   "execution_count": 14,
   "id": "82410085-ead2-4756-a842-193064ebd669",
   "metadata": {},
   "outputs": [
    {
     "name": "stdout",
     "output_type": "stream",
     "text": [
      "3335\n"
     ]
    },
    {
     "data": {
      "text/plain": [
       "[['고등학교',\n",
       "  '시절',\n",
       "  '모의고사',\n",
       "  '수학',\n",
       "  '시험',\n",
       "  '에서',\n",
       "  '4등',\n",
       "  '급을',\n",
       "  '받자',\n",
       "  '누구',\n",
       "  '보다',\n",
       "  '열정',\n",
       "  '적',\n",
       "  '원인',\n",
       "  '을',\n",
       "  '분석',\n",
       "  '하고',\n",
       "  '공부',\n",
       "  '하였습니다',\n",
       "  '.'],\n",
       " ['그', '결과', ',', '수능', '에서', '이과', '수학', '2등', '급을', '받았습니다', '.'],\n",
       " ['제출',\n",
       "  '전',\n",
       "  '까지',\n",
       "  '여러',\n",
       "  '번의',\n",
       "  '수정과',\n",
       "  '팀',\n",
       "  '원',\n",
       "  '개개인',\n",
       "  '갑작스러운',\n",
       "  '일정',\n",
       "  '변화',\n",
       "  '에도',\n",
       "  '대처',\n",
       "  '할',\n",
       "  '수',\n",
       "  '있었고',\n",
       "  '최종',\n",
       "  '적',\n",
       "  '활동',\n",
       "  '우수',\n",
       "  '로',\n",
       "  '선정',\n",
       "  '되었습니다',\n",
       "  '.'],\n",
       " ['저',\n",
       "  '문제',\n",
       "  '무엇',\n",
       "  '인지',\n",
       "  '팀원',\n",
       "  '함께',\n",
       "  '고민',\n",
       "  '하였고',\n",
       "  '카메라',\n",
       "  'DSLR',\n",
       "  '로',\n",
       "  '업그레이드',\n",
       "  '하고',\n",
       "  '소재',\n",
       "  '다양',\n",
       "  '화하는',\n",
       "  '등',\n",
       "  '영상',\n",
       "  '과제',\n",
       "  '퀄리티',\n",
       "  '높였습니다',\n",
       "  '.'],\n",
       " ['그',\n",
       "  '이후',\n",
       "  '로',\n",
       "  '저희',\n",
       "  '팀',\n",
       "  '우수',\n",
       "  '팀',\n",
       "  '3',\n",
       "  '번',\n",
       "  '선정',\n",
       "  '되었고',\n",
       "  '영상',\n",
       "  '콘테스트',\n",
       "  '에서',\n",
       "  '상도',\n",
       "  '받았습니다',\n",
       "  '.']]"
      ]
     },
     "execution_count": 14,
     "metadata": {},
     "output_type": "execute_result"
    }
   ],
   "source": [
    "x_train = []\n",
    "# co = 0\n",
    "for sentence in df['Sentence']:\n",
    "  temp_x = tokenizer.morphs(sentence)\n",
    "  temp_x = [word for word in temp_x if word not in stop_words]\n",
    "  x_train.append(temp_x)\n",
    "  # co =+ 1\n",
    "  # if co % 1000 == 0:\n",
    "  #   print(co, end=' ')\n",
    "\n",
    "print(len(x_train))\n",
    "x_train[:5]"
   ]
  },
  {
   "cell_type": "code",
   "execution_count": 15,
   "id": "d62f402c-4f75-4314-ab79-bfd5d94e69e0",
   "metadata": {},
   "outputs": [
    {
     "name": "stdout",
     "output_type": "stream",
     "text": [
      "0    고등학교 시절 모의고사 수학시험에서 4등급을 받자 누구보다 열정적으로 원인을 분석하...\n",
      "Name: Sentence, dtype: object\n",
      "[['고등학교', '시절', '모의고사', '수학', '시험', '에서', '4등', '급을', '받자', '누구', '보다', '열정', '적', '원인', '을', '분석', '하고', '공부', '하였습니다', '.']]\n"
     ]
    }
   ],
   "source": [
    "print(df['Sentence'][:1])\n",
    "print(x_train[:1])"
   ]
  },
  {
   "cell_type": "code",
   "execution_count": 16,
   "id": "dbd4e84f-2830-4e24-b46e-ecbf101cb081",
   "metadata": {},
   "outputs": [],
   "source": [
    "words = np.concatenate(x_train).tolist()\n",
    "words[:10]\n",
    "counter = Counter(words)"
   ]
  },
  {
   "cell_type": "code",
   "execution_count": 17,
   "id": "bfb2f1e5-daf9-4fcc-ae8d-ba73e48b44c8",
   "metadata": {},
   "outputs": [
    {
     "name": "stdout",
     "output_type": "stream",
     "text": [
      "8594\n",
      "8594\n"
     ]
    },
    {
     "data": {
      "text/plain": [
       "[('을', 4238),\n",
       " ('.', 3342),\n",
       " (',', 1566),\n",
       " ('수', 940),\n",
       " ('적', 853),\n",
       " ('에서', 778),\n",
       " ('하는', 778),\n",
       " ('저', 615),\n",
       " ('할', 594),\n",
       " ('하고', 548)]"
      ]
     },
     "execution_count": 17,
     "metadata": {},
     "output_type": "execute_result"
    }
   ],
   "source": [
    "print(len(counter))\n",
    "counter = counter.most_common(30000-4) # reserve for 4 special tokens\n",
    "print(len(counter))\n",
    "counter[:10]"
   ]
  },
  {
   "cell_type": "code",
   "execution_count": 18,
   "id": "45552130-9b54-4b35-af1e-3a138db88f73",
   "metadata": {},
   "outputs": [
    {
     "data": {
      "text/plain": [
       "['<PAD>', '<BOS>', '<UNK>', '<UNUSED>', '을', '.', ',', '수', '적', '에서']"
      ]
     },
     "execution_count": 18,
     "metadata": {},
     "output_type": "execute_result"
    }
   ],
   "source": [
    "vocab = ['<PAD>', '<BOS>', '<UNK>', '<UNUSED>'] + [key for key,_ in counter]\n",
    "vocab[:10]"
   ]
  },
  {
   "cell_type": "code",
   "execution_count": 19,
   "id": "c4e50b85-122b-4111-94b0-316cca236260",
   "metadata": {},
   "outputs": [],
   "source": [
    "word_to_index = {word : index for index, word in enumerate(vocab)}\n",
    "index_to_word = {index : word for index, word in enumerate(vocab)}"
   ]
  },
  {
   "cell_type": "code",
   "execution_count": 20,
   "id": "33185e37-50ac-4bed-bcd8-3f054dda522b",
   "metadata": {},
   "outputs": [],
   "source": [
    "def wordlist_to_indexlist(wordlist):\n",
    "  return [word_to_index[word] if word in word_to_index else word_to_index['<UNK>'] for word in wordlist]"
   ]
  },
  {
   "cell_type": "code",
   "execution_count": 21,
   "id": "b4f672f5-dfc4-42cc-88eb-e3ea485fb205",
   "metadata": {},
   "outputs": [
    {
     "name": "stdout",
     "output_type": "stream",
     "text": [
      "[[984, 191, 4276, 1346, 282, 9, 4277, 2371, 4278, 849, 121, 304, 8, 450, 4, 28, 13, 113, 34, 5], [36, 25, 6, 1976, 9, 4279, 1346, 1347, 2371, 233, 5], [1236, 114, 106, 234, 475, 4280, 31, 88, 1977, 3030, 380, 484, 195, 609, 12, 7, 166, 415, 8, 54, 396, 17, 254, 46, 5]]\n"
     ]
    }
   ],
   "source": [
    "x_train = list(map(wordlist_to_indexlist, x_train))\n",
    "print(x_train[:3])"
   ]
  },
  {
   "cell_type": "code",
   "execution_count": 22,
   "id": "2017c654-f776-4599-9871-755e22b43635",
   "metadata": {},
   "outputs": [
    {
     "name": "stdout",
     "output_type": "stream",
     "text": [
      "[20, 11, 25, 22, 17]\n",
      "AVE length: 22.706446776611696\n",
      "MAX length: 115\n",
      "STD length: 10.256787146909229\n"
     ]
    }
   ],
   "source": [
    "num = [len(word) for word in x_train]\n",
    "print(num[:5])\n",
    "print(f'AVE length: {np.mean(num)}')\n",
    "print(f'MAX length: {np.max(num)}')\n",
    "print(f'STD length: {np.std(num)}')"
   ]
  },
  {
   "cell_type": "code",
   "execution_count": 23,
   "id": "dacbebb7-daae-4487-b6c3-a35dd9a3d521",
   "metadata": {},
   "outputs": [
    {
     "name": "stdout",
     "output_type": "stream",
     "text": [
      "8598\n"
     ]
    }
   ],
   "source": [
    "maxlen = 116\n",
    "num_classes = 4\n",
    "vlen = len(vocab)\n",
    "print(vlen)"
   ]
  },
  {
   "cell_type": "code",
   "execution_count": 24,
   "id": "fff8abf9-56e5-41d7-9409-80f8c673bb6e",
   "metadata": {},
   "outputs": [
    {
     "data": {
      "text/plain": [
       "array([[   0,    0,    0,    0,    0,    0,    0,    0,    0,    0,    0,\n",
       "           0,    0,    0,    0,    0,    0,    0,    0,    0,    0,    0,\n",
       "           0,    0,    0,    0,    0,    0,    0,    0,    0,    0,    0,\n",
       "           0,    0,    0,    0,    0,    0,    0,    0,    0,    0,    0,\n",
       "           0,    0,    0,    0,    0,    0,    0,    0,    0,    0,    0,\n",
       "           0,    0,    0,    0,    0,    0,    0,    0,    0,    0,    0,\n",
       "           0,    0,    0,    0,    0,    0,    0,    0,    0,    0,    0,\n",
       "           0,    0,    0,    0,    0,    0,    0,    0,    0,    0,    0,\n",
       "           0,    0,    0,    0,    0,    0,    0,    0,  984,  191, 4276,\n",
       "        1346,  282,    9, 4277, 2371, 4278,  849,  121,  304,    8,  450,\n",
       "           4,   28,   13,  113,   34,    5],\n",
       "       [   0,    0,    0,    0,    0,    0,    0,    0,    0,    0,    0,\n",
       "           0,    0,    0,    0,    0,    0,    0,    0,    0,    0,    0,\n",
       "           0,    0,    0,    0,    0,    0,    0,    0,    0,    0,    0,\n",
       "           0,    0,    0,    0,    0,    0,    0,    0,    0,    0,    0,\n",
       "           0,    0,    0,    0,    0,    0,    0,    0,    0,    0,    0,\n",
       "           0,    0,    0,    0,    0,    0,    0,    0,    0,    0,    0,\n",
       "           0,    0,    0,    0,    0,    0,    0,    0,    0,    0,    0,\n",
       "           0,    0,    0,    0,    0,    0,    0,    0,    0,    0,    0,\n",
       "           0,    0,    0,    0,    0,    0,    0,    0,    0,    0,    0,\n",
       "           0,    0,    0,    0,    0,    0,   36,   25,    6, 1976,    9,\n",
       "        4279, 1346, 1347, 2371,  233,    5],\n",
       "       [   0,    0,    0,    0,    0,    0,    0,    0,    0,    0,    0,\n",
       "           0,    0,    0,    0,    0,    0,    0,    0,    0,    0,    0,\n",
       "           0,    0,    0,    0,    0,    0,    0,    0,    0,    0,    0,\n",
       "           0,    0,    0,    0,    0,    0,    0,    0,    0,    0,    0,\n",
       "           0,    0,    0,    0,    0,    0,    0,    0,    0,    0,    0,\n",
       "           0,    0,    0,    0,    0,    0,    0,    0,    0,    0,    0,\n",
       "           0,    0,    0,    0,    0,    0,    0,    0,    0,    0,    0,\n",
       "           0,    0,    0,    0,    0,    0,    0,    0,    0,    0,    0,\n",
       "           0,    0,    0, 1236,  114,  106,  234,  475, 4280,   31,   88,\n",
       "        1977, 3030,  380,  484,  195,  609,   12,    7,  166,  415,    8,\n",
       "          54,  396,   17,  254,   46,    5]], dtype=int32)"
      ]
     },
     "execution_count": 24,
     "metadata": {},
     "output_type": "execute_result"
    }
   ],
   "source": [
    "x_train = pad_sequences(x_train, maxlen=maxlen, value=word_to_index['<PAD>'], padding='pre')\n",
    "x_train[:3]"
   ]
  },
  {
   "cell_type": "code",
   "execution_count": 31,
   "id": "debd2171-155b-4ed7-b27c-798434d91777",
   "metadata": {},
   "outputs": [
    {
     "name": "stdout",
     "output_type": "stream",
     "text": [
      "[2 2 2]\n"
     ]
    }
   ],
   "source": [
    "from sklearn import preprocessing\n",
    "enc = preprocessing.LabelEncoder()\n",
    "y_train = np.array(enc.fit_transform(df['Label']))\n",
    "# y_train = np.array(list(df['Label']))\n",
    "print(y_train[:3])"
   ]
  },
  {
   "cell_type": "code",
   "execution_count": 32,
   "id": "cfb66b1a-3826-4a9d-82b7-b0d1cec569a9",
   "metadata": {},
   "outputs": [
    {
     "data": {
      "text/plain": [
       "((2668, 116), (667, 116), (2668,), (667,))"
      ]
     },
     "execution_count": 32,
     "metadata": {},
     "output_type": "execute_result"
    }
   ],
   "source": [
    "train_x, val_x, train_y, val_y = train_test_split(x_train, y_train, test_size=0.2)\n",
    "train_x.shape, val_x.shape, train_y.shape, val_y.shape"
   ]
  },
  {
   "cell_type": "code",
   "execution_count": 33,
   "id": "ec450002-4343-4ca3-8925-487c1fe22ed8",
   "metadata": {},
   "outputs": [
    {
     "data": {
      "text/html": [
       "<style>#sk-container-id-2 {color: black;}#sk-container-id-2 pre{padding: 0;}#sk-container-id-2 div.sk-toggleable {background-color: white;}#sk-container-id-2 label.sk-toggleable__label {cursor: pointer;display: block;width: 100%;margin-bottom: 0;padding: 0.3em;box-sizing: border-box;text-align: center;}#sk-container-id-2 label.sk-toggleable__label-arrow:before {content: \"▸\";float: left;margin-right: 0.25em;color: #696969;}#sk-container-id-2 label.sk-toggleable__label-arrow:hover:before {color: black;}#sk-container-id-2 div.sk-estimator:hover label.sk-toggleable__label-arrow:before {color: black;}#sk-container-id-2 div.sk-toggleable__content {max-height: 0;max-width: 0;overflow: hidden;text-align: left;background-color: #f0f8ff;}#sk-container-id-2 div.sk-toggleable__content pre {margin: 0.2em;color: black;border-radius: 0.25em;background-color: #f0f8ff;}#sk-container-id-2 input.sk-toggleable__control:checked~div.sk-toggleable__content {max-height: 200px;max-width: 100%;overflow: auto;}#sk-container-id-2 input.sk-toggleable__control:checked~label.sk-toggleable__label-arrow:before {content: \"▾\";}#sk-container-id-2 div.sk-estimator input.sk-toggleable__control:checked~label.sk-toggleable__label {background-color: #d4ebff;}#sk-container-id-2 div.sk-label input.sk-toggleable__control:checked~label.sk-toggleable__label {background-color: #d4ebff;}#sk-container-id-2 input.sk-hidden--visually {border: 0;clip: rect(1px 1px 1px 1px);clip: rect(1px, 1px, 1px, 1px);height: 1px;margin: -1px;overflow: hidden;padding: 0;position: absolute;width: 1px;}#sk-container-id-2 div.sk-estimator {font-family: monospace;background-color: #f0f8ff;border: 1px dotted black;border-radius: 0.25em;box-sizing: border-box;margin-bottom: 0.5em;}#sk-container-id-2 div.sk-estimator:hover {background-color: #d4ebff;}#sk-container-id-2 div.sk-parallel-item::after {content: \"\";width: 100%;border-bottom: 1px solid gray;flex-grow: 1;}#sk-container-id-2 div.sk-label:hover label.sk-toggleable__label {background-color: #d4ebff;}#sk-container-id-2 div.sk-serial::before {content: \"\";position: absolute;border-left: 1px solid gray;box-sizing: border-box;top: 0;bottom: 0;left: 50%;z-index: 0;}#sk-container-id-2 div.sk-serial {display: flex;flex-direction: column;align-items: center;background-color: white;padding-right: 0.2em;padding-left: 0.2em;position: relative;}#sk-container-id-2 div.sk-item {position: relative;z-index: 1;}#sk-container-id-2 div.sk-parallel {display: flex;align-items: stretch;justify-content: center;background-color: white;position: relative;}#sk-container-id-2 div.sk-item::before, #sk-container-id-2 div.sk-parallel-item::before {content: \"\";position: absolute;border-left: 1px solid gray;box-sizing: border-box;top: 0;bottom: 0;left: 50%;z-index: -1;}#sk-container-id-2 div.sk-parallel-item {display: flex;flex-direction: column;z-index: 1;position: relative;background-color: white;}#sk-container-id-2 div.sk-parallel-item:first-child::after {align-self: flex-end;width: 50%;}#sk-container-id-2 div.sk-parallel-item:last-child::after {align-self: flex-start;width: 50%;}#sk-container-id-2 div.sk-parallel-item:only-child::after {width: 0;}#sk-container-id-2 div.sk-dashed-wrapped {border: 1px dashed gray;margin: 0 0.4em 0.5em 0.4em;box-sizing: border-box;padding-bottom: 0.4em;background-color: white;}#sk-container-id-2 div.sk-label label {font-family: monospace;font-weight: bold;display: inline-block;line-height: 1.2em;}#sk-container-id-2 div.sk-label-container {text-align: center;}#sk-container-id-2 div.sk-container {/* jupyter's `normalize.less` sets `[hidden] { display: none; }` but bootstrap.min.css set `[hidden] { display: none !important; }` so we also need the `!important` here to be able to override the default hidden behavior on the sphinx rendered scikit-learn.org. See: https://github.com/scikit-learn/scikit-learn/issues/21755 */display: inline-block !important;position: relative;}#sk-container-id-2 div.sk-text-repr-fallback {display: none;}</style><div id=\"sk-container-id-2\" class=\"sk-top-container\"><div class=\"sk-text-repr-fallback\"><pre>RandomForestClassifier(n_estimators=200, random_state=43)</pre><b>In a Jupyter environment, please rerun this cell to show the HTML representation or trust the notebook. <br />On GitHub, the HTML representation is unable to render, please try loading this page with nbviewer.org.</b></div><div class=\"sk-container\" hidden><div class=\"sk-item\"><div class=\"sk-estimator sk-toggleable\"><input class=\"sk-toggleable__control sk-hidden--visually\" id=\"sk-estimator-id-2\" type=\"checkbox\" checked><label for=\"sk-estimator-id-2\" class=\"sk-toggleable__label sk-toggleable__label-arrow\">RandomForestClassifier</label><div class=\"sk-toggleable__content\"><pre>RandomForestClassifier(n_estimators=200, random_state=43)</pre></div></div></div></div></div>"
      ],
      "text/plain": [
       "RandomForestClassifier(n_estimators=200, random_state=43)"
      ]
     },
     "execution_count": 33,
     "metadata": {},
     "output_type": "execute_result"
    }
   ],
   "source": [
    "model = RandomForestClassifier(random_state=43,n_estimators=200)\n",
    "##########모델 학습\n",
    "model.fit(train_x , train_y)"
   ]
  },
  {
   "cell_type": "code",
   "execution_count": null,
   "id": "444b359b-69e1-4e01-9191-e4ea9760bcc5",
   "metadata": {},
   "outputs": [],
   "source": []
  },
  {
   "cell_type": "code",
   "execution_count": 34,
   "id": "08d74ff6-7851-4769-a9ae-c9c6573c7f80",
   "metadata": {},
   "outputs": [
    {
     "name": "stdout",
     "output_type": "stream",
     "text": [
      "훈련_Accuracy: 1.0\n",
      "테스트_Accuracy: 0.5172413793103449\n",
      "                precision    recall  f1-score   support\n",
      "\n",
      "          성공경험       0.46      0.50      0.48       215\n",
      "지원동기 및 입사 후 포부       0.62      0.09      0.16        54\n",
      "            강점       0.52      0.71      0.60       246\n",
      "            단점       0.64      0.39      0.48       152\n",
      "\n",
      "      accuracy                           0.52       667\n",
      "     macro avg       0.56      0.42      0.43       667\n",
      "  weighted avg       0.54      0.52      0.50       667\n",
      "\n"
     ]
    }
   ],
   "source": [
    "##########모델 검증\n",
    "\n",
    "labels = list(df.iloc[:,1].unique())\n",
    "\n",
    "print(f'훈련_Accuracy: {model.score(train_x, train_y)}') \n",
    "print(f'테스트_Accuracy: {model.score(val_x, val_y)}') \n",
    "\n",
    "# #평가 리포트\n",
    "from sklearn.metrics import classification_report\n",
    "predict_y = model.predict(val_x)\n",
    "print(classification_report(val_y,predict_y,target_names=labels))"
   ]
  },
  {
   "cell_type": "code",
   "execution_count": 35,
   "id": "53ea19ab-7844-4b5e-9138-ccea40fe06ec",
   "metadata": {},
   "outputs": [
    {
     "data": {
      "text/html": [
       "<style>#sk-container-id-3 {color: black;}#sk-container-id-3 pre{padding: 0;}#sk-container-id-3 div.sk-toggleable {background-color: white;}#sk-container-id-3 label.sk-toggleable__label {cursor: pointer;display: block;width: 100%;margin-bottom: 0;padding: 0.3em;box-sizing: border-box;text-align: center;}#sk-container-id-3 label.sk-toggleable__label-arrow:before {content: \"▸\";float: left;margin-right: 0.25em;color: #696969;}#sk-container-id-3 label.sk-toggleable__label-arrow:hover:before {color: black;}#sk-container-id-3 div.sk-estimator:hover label.sk-toggleable__label-arrow:before {color: black;}#sk-container-id-3 div.sk-toggleable__content {max-height: 0;max-width: 0;overflow: hidden;text-align: left;background-color: #f0f8ff;}#sk-container-id-3 div.sk-toggleable__content pre {margin: 0.2em;color: black;border-radius: 0.25em;background-color: #f0f8ff;}#sk-container-id-3 input.sk-toggleable__control:checked~div.sk-toggleable__content {max-height: 200px;max-width: 100%;overflow: auto;}#sk-container-id-3 input.sk-toggleable__control:checked~label.sk-toggleable__label-arrow:before {content: \"▾\";}#sk-container-id-3 div.sk-estimator input.sk-toggleable__control:checked~label.sk-toggleable__label {background-color: #d4ebff;}#sk-container-id-3 div.sk-label input.sk-toggleable__control:checked~label.sk-toggleable__label {background-color: #d4ebff;}#sk-container-id-3 input.sk-hidden--visually {border: 0;clip: rect(1px 1px 1px 1px);clip: rect(1px, 1px, 1px, 1px);height: 1px;margin: -1px;overflow: hidden;padding: 0;position: absolute;width: 1px;}#sk-container-id-3 div.sk-estimator {font-family: monospace;background-color: #f0f8ff;border: 1px dotted black;border-radius: 0.25em;box-sizing: border-box;margin-bottom: 0.5em;}#sk-container-id-3 div.sk-estimator:hover {background-color: #d4ebff;}#sk-container-id-3 div.sk-parallel-item::after {content: \"\";width: 100%;border-bottom: 1px solid gray;flex-grow: 1;}#sk-container-id-3 div.sk-label:hover label.sk-toggleable__label {background-color: #d4ebff;}#sk-container-id-3 div.sk-serial::before {content: \"\";position: absolute;border-left: 1px solid gray;box-sizing: border-box;top: 0;bottom: 0;left: 50%;z-index: 0;}#sk-container-id-3 div.sk-serial {display: flex;flex-direction: column;align-items: center;background-color: white;padding-right: 0.2em;padding-left: 0.2em;position: relative;}#sk-container-id-3 div.sk-item {position: relative;z-index: 1;}#sk-container-id-3 div.sk-parallel {display: flex;align-items: stretch;justify-content: center;background-color: white;position: relative;}#sk-container-id-3 div.sk-item::before, #sk-container-id-3 div.sk-parallel-item::before {content: \"\";position: absolute;border-left: 1px solid gray;box-sizing: border-box;top: 0;bottom: 0;left: 50%;z-index: -1;}#sk-container-id-3 div.sk-parallel-item {display: flex;flex-direction: column;z-index: 1;position: relative;background-color: white;}#sk-container-id-3 div.sk-parallel-item:first-child::after {align-self: flex-end;width: 50%;}#sk-container-id-3 div.sk-parallel-item:last-child::after {align-self: flex-start;width: 50%;}#sk-container-id-3 div.sk-parallel-item:only-child::after {width: 0;}#sk-container-id-3 div.sk-dashed-wrapped {border: 1px dashed gray;margin: 0 0.4em 0.5em 0.4em;box-sizing: border-box;padding-bottom: 0.4em;background-color: white;}#sk-container-id-3 div.sk-label label {font-family: monospace;font-weight: bold;display: inline-block;line-height: 1.2em;}#sk-container-id-3 div.sk-label-container {text-align: center;}#sk-container-id-3 div.sk-container {/* jupyter's `normalize.less` sets `[hidden] { display: none; }` but bootstrap.min.css set `[hidden] { display: none !important; }` so we also need the `!important` here to be able to override the default hidden behavior on the sphinx rendered scikit-learn.org. See: https://github.com/scikit-learn/scikit-learn/issues/21755 */display: inline-block !important;position: relative;}#sk-container-id-3 div.sk-text-repr-fallback {display: none;}</style><div id=\"sk-container-id-3\" class=\"sk-top-container\"><div class=\"sk-text-repr-fallback\"><pre>GradientBoostingClassifier(random_state=43)</pre><b>In a Jupyter environment, please rerun this cell to show the HTML representation or trust the notebook. <br />On GitHub, the HTML representation is unable to render, please try loading this page with nbviewer.org.</b></div><div class=\"sk-container\" hidden><div class=\"sk-item\"><div class=\"sk-estimator sk-toggleable\"><input class=\"sk-toggleable__control sk-hidden--visually\" id=\"sk-estimator-id-3\" type=\"checkbox\" checked><label for=\"sk-estimator-id-3\" class=\"sk-toggleable__label sk-toggleable__label-arrow\">GradientBoostingClassifier</label><div class=\"sk-toggleable__content\"><pre>GradientBoostingClassifier(random_state=43)</pre></div></div></div></div></div>"
      ],
      "text/plain": [
       "GradientBoostingClassifier(random_state=43)"
      ]
     },
     "execution_count": 35,
     "metadata": {},
     "output_type": "execute_result"
    }
   ],
   "source": [
    "model = GradientBoostingClassifier(random_state=43)\n",
    "##########모델 학습\n",
    "model.fit(train_x , train_y)"
   ]
  },
  {
   "cell_type": "code",
   "execution_count": 36,
   "id": "53f0681f-1d5d-464e-9cf1-f5da9f263ae3",
   "metadata": {},
   "outputs": [
    {
     "name": "stdout",
     "output_type": "stream",
     "text": [
      "훈련_Accuracy: 0.7908545727136432\n",
      "테스트_Accuracy: 0.6656671664167916\n",
      "                precision    recall  f1-score   support\n",
      "\n",
      "          성공경험       0.58      0.64      0.61       215\n",
      "지원동기 및 입사 후 포부       0.83      0.35      0.49        54\n",
      "            강점       0.66      0.79      0.72       246\n",
      "            단점       0.82      0.61      0.70       152\n",
      "\n",
      "      accuracy                           0.67       667\n",
      "     macro avg       0.72      0.60      0.63       667\n",
      "  weighted avg       0.69      0.67      0.66       667\n",
      "\n"
     ]
    }
   ],
   "source": [
    "##########모델 검증\n",
    "\n",
    "labels = list(df.iloc[:,1].unique())\n",
    "\n",
    "print(f'훈련_Accuracy: {model.score(train_x, train_y)}') \n",
    "print(f'테스트_Accuracy: {model.score(val_x, val_y)}') \n",
    "\n",
    "# #평가 리포트\n",
    "from sklearn.metrics import classification_report\n",
    "predict_y = model.predict(val_x)\n",
    "print(classification_report(val_y,predict_y,target_names=labels))"
   ]
  },
  {
   "cell_type": "code",
   "execution_count": 37,
   "id": "eba4d502-7626-4174-8704-29b8c1c402a9",
   "metadata": {},
   "outputs": [
    {
     "data": {
      "text/html": [
       "<style>#sk-container-id-4 {color: black;}#sk-container-id-4 pre{padding: 0;}#sk-container-id-4 div.sk-toggleable {background-color: white;}#sk-container-id-4 label.sk-toggleable__label {cursor: pointer;display: block;width: 100%;margin-bottom: 0;padding: 0.3em;box-sizing: border-box;text-align: center;}#sk-container-id-4 label.sk-toggleable__label-arrow:before {content: \"▸\";float: left;margin-right: 0.25em;color: #696969;}#sk-container-id-4 label.sk-toggleable__label-arrow:hover:before {color: black;}#sk-container-id-4 div.sk-estimator:hover label.sk-toggleable__label-arrow:before {color: black;}#sk-container-id-4 div.sk-toggleable__content {max-height: 0;max-width: 0;overflow: hidden;text-align: left;background-color: #f0f8ff;}#sk-container-id-4 div.sk-toggleable__content pre {margin: 0.2em;color: black;border-radius: 0.25em;background-color: #f0f8ff;}#sk-container-id-4 input.sk-toggleable__control:checked~div.sk-toggleable__content {max-height: 200px;max-width: 100%;overflow: auto;}#sk-container-id-4 input.sk-toggleable__control:checked~label.sk-toggleable__label-arrow:before {content: \"▾\";}#sk-container-id-4 div.sk-estimator input.sk-toggleable__control:checked~label.sk-toggleable__label {background-color: #d4ebff;}#sk-container-id-4 div.sk-label input.sk-toggleable__control:checked~label.sk-toggleable__label {background-color: #d4ebff;}#sk-container-id-4 input.sk-hidden--visually {border: 0;clip: rect(1px 1px 1px 1px);clip: rect(1px, 1px, 1px, 1px);height: 1px;margin: -1px;overflow: hidden;padding: 0;position: absolute;width: 1px;}#sk-container-id-4 div.sk-estimator {font-family: monospace;background-color: #f0f8ff;border: 1px dotted black;border-radius: 0.25em;box-sizing: border-box;margin-bottom: 0.5em;}#sk-container-id-4 div.sk-estimator:hover {background-color: #d4ebff;}#sk-container-id-4 div.sk-parallel-item::after {content: \"\";width: 100%;border-bottom: 1px solid gray;flex-grow: 1;}#sk-container-id-4 div.sk-label:hover label.sk-toggleable__label {background-color: #d4ebff;}#sk-container-id-4 div.sk-serial::before {content: \"\";position: absolute;border-left: 1px solid gray;box-sizing: border-box;top: 0;bottom: 0;left: 50%;z-index: 0;}#sk-container-id-4 div.sk-serial {display: flex;flex-direction: column;align-items: center;background-color: white;padding-right: 0.2em;padding-left: 0.2em;position: relative;}#sk-container-id-4 div.sk-item {position: relative;z-index: 1;}#sk-container-id-4 div.sk-parallel {display: flex;align-items: stretch;justify-content: center;background-color: white;position: relative;}#sk-container-id-4 div.sk-item::before, #sk-container-id-4 div.sk-parallel-item::before {content: \"\";position: absolute;border-left: 1px solid gray;box-sizing: border-box;top: 0;bottom: 0;left: 50%;z-index: -1;}#sk-container-id-4 div.sk-parallel-item {display: flex;flex-direction: column;z-index: 1;position: relative;background-color: white;}#sk-container-id-4 div.sk-parallel-item:first-child::after {align-self: flex-end;width: 50%;}#sk-container-id-4 div.sk-parallel-item:last-child::after {align-self: flex-start;width: 50%;}#sk-container-id-4 div.sk-parallel-item:only-child::after {width: 0;}#sk-container-id-4 div.sk-dashed-wrapped {border: 1px dashed gray;margin: 0 0.4em 0.5em 0.4em;box-sizing: border-box;padding-bottom: 0.4em;background-color: white;}#sk-container-id-4 div.sk-label label {font-family: monospace;font-weight: bold;display: inline-block;line-height: 1.2em;}#sk-container-id-4 div.sk-label-container {text-align: center;}#sk-container-id-4 div.sk-container {/* jupyter's `normalize.less` sets `[hidden] { display: none; }` but bootstrap.min.css set `[hidden] { display: none !important; }` so we also need the `!important` here to be able to override the default hidden behavior on the sphinx rendered scikit-learn.org. See: https://github.com/scikit-learn/scikit-learn/issues/21755 */display: inline-block !important;position: relative;}#sk-container-id-4 div.sk-text-repr-fallback {display: none;}</style><div id=\"sk-container-id-4\" class=\"sk-top-container\"><div class=\"sk-text-repr-fallback\"><pre>XGBClassifier(base_score=None, booster=None, callbacks=None,\n",
       "              colsample_bylevel=None, colsample_bynode=None,\n",
       "              colsample_bytree=None, device=None, early_stopping_rounds=None,\n",
       "              enable_categorical=False, eval_metric=None, feature_types=None,\n",
       "              gamma=None, grow_policy=None, importance_type=None,\n",
       "              interaction_constraints=None, learning_rate=None, max_bin=None,\n",
       "              max_cat_threshold=None, max_cat_to_onehot=None,\n",
       "              max_delta_step=None, max_depth=None, max_leaves=None,\n",
       "              min_child_weight=None, missing=nan, monotone_constraints=None,\n",
       "              multi_strategy=None, n_estimators=200, n_jobs=None,\n",
       "              num_parallel_tree=None, objective=&#x27;multi:softprob&#x27;, ...)</pre><b>In a Jupyter environment, please rerun this cell to show the HTML representation or trust the notebook. <br />On GitHub, the HTML representation is unable to render, please try loading this page with nbviewer.org.</b></div><div class=\"sk-container\" hidden><div class=\"sk-item\"><div class=\"sk-estimator sk-toggleable\"><input class=\"sk-toggleable__control sk-hidden--visually\" id=\"sk-estimator-id-4\" type=\"checkbox\" checked><label for=\"sk-estimator-id-4\" class=\"sk-toggleable__label sk-toggleable__label-arrow\">XGBClassifier</label><div class=\"sk-toggleable__content\"><pre>XGBClassifier(base_score=None, booster=None, callbacks=None,\n",
       "              colsample_bylevel=None, colsample_bynode=None,\n",
       "              colsample_bytree=None, device=None, early_stopping_rounds=None,\n",
       "              enable_categorical=False, eval_metric=None, feature_types=None,\n",
       "              gamma=None, grow_policy=None, importance_type=None,\n",
       "              interaction_constraints=None, learning_rate=None, max_bin=None,\n",
       "              max_cat_threshold=None, max_cat_to_onehot=None,\n",
       "              max_delta_step=None, max_depth=None, max_leaves=None,\n",
       "              min_child_weight=None, missing=nan, monotone_constraints=None,\n",
       "              multi_strategy=None, n_estimators=200, n_jobs=None,\n",
       "              num_parallel_tree=None, objective=&#x27;multi:softprob&#x27;, ...)</pre></div></div></div></div></div>"
      ],
      "text/plain": [
       "XGBClassifier(base_score=None, booster=None, callbacks=None,\n",
       "              colsample_bylevel=None, colsample_bynode=None,\n",
       "              colsample_bytree=None, device=None, early_stopping_rounds=None,\n",
       "              enable_categorical=False, eval_metric=None, feature_types=None,\n",
       "              gamma=None, grow_policy=None, importance_type=None,\n",
       "              interaction_constraints=None, learning_rate=None, max_bin=None,\n",
       "              max_cat_threshold=None, max_cat_to_onehot=None,\n",
       "              max_delta_step=None, max_depth=None, max_leaves=None,\n",
       "              min_child_weight=None, missing=nan, monotone_constraints=None,\n",
       "              multi_strategy=None, n_estimators=200, n_jobs=None,\n",
       "              num_parallel_tree=None, objective='multi:softprob', ...)"
      ]
     },
     "execution_count": 37,
     "metadata": {},
     "output_type": "execute_result"
    }
   ],
   "source": [
    "model = XGBClassifier(n_estimators=200)\n",
    "model.fit(train_x, train_y, early_stopping_rounds=20, eval_metric=\"mlogloss\", eval_set=[(val_x, val_y)], verbose=False)"
   ]
  },
  {
   "cell_type": "code",
   "execution_count": 38,
   "id": "4d90e2f6-c73b-4c4c-9191-6ea4279647f6",
   "metadata": {},
   "outputs": [
    {
     "name": "stdout",
     "output_type": "stream",
     "text": [
      "훈련_Accuracy: 0.9711394302848576\n",
      "테스트_Accuracy: 0.6341829085457271\n",
      "                precision    recall  f1-score   support\n",
      "\n",
      "          성공경험       0.56      0.60      0.58       215\n",
      "지원동기 및 입사 후 포부       0.58      0.20      0.30        54\n",
      "            강점       0.63      0.74      0.68       246\n",
      "            단점       0.80      0.66      0.73       152\n",
      "\n",
      "      accuracy                           0.63       667\n",
      "     macro avg       0.64      0.55      0.57       667\n",
      "  weighted avg       0.64      0.63      0.63       667\n",
      "\n"
     ]
    }
   ],
   "source": [
    "##########모델 검증\n",
    "\n",
    "labels = list(df.iloc[:,1].unique())\n",
    "\n",
    "print(f'훈련_Accuracy: {model.score(train_x, train_y)}') \n",
    "print(f'테스트_Accuracy: {model.score(val_x, val_y)}') \n",
    "\n",
    "# #평가 리포트\n",
    "from sklearn.metrics import classification_report\n",
    "predict_y = model.predict(val_x)\n",
    "print(classification_report(val_y,predict_y,target_names=labels))"
   ]
  },
  {
   "cell_type": "code",
   "execution_count": 39,
   "id": "567b7429-905c-49c7-a4a0-421440567ac9",
   "metadata": {},
   "outputs": [],
   "source": [
    "#"
   ]
  },
  {
   "cell_type": "code",
   "execution_count": 40,
   "id": "bf1fdb72-3aa6-4e5a-9a9a-aae4cf7d66f2",
   "metadata": {},
   "outputs": [
    {
     "data": {
      "text/html": [
       "<div>\n",
       "<style scoped>\n",
       "    .dataframe tbody tr th:only-of-type {\n",
       "        vertical-align: middle;\n",
       "    }\n",
       "\n",
       "    .dataframe tbody tr th {\n",
       "        vertical-align: top;\n",
       "    }\n",
       "\n",
       "    .dataframe thead th {\n",
       "        text-align: right;\n",
       "    }\n",
       "</style>\n",
       "<table border=\"1\" class=\"dataframe\">\n",
       "  <thead>\n",
       "    <tr style=\"text-align: right;\">\n",
       "      <th></th>\n",
       "      <th>Sentence</th>\n",
       "      <th>Label</th>\n",
       "    </tr>\n",
       "  </thead>\n",
       "  <tbody>\n",
       "    <tr>\n",
       "      <th>0</th>\n",
       "      <td>총탄의 살상력 비교 연구에서 다른 사람들이 놓친 방식인 젤라틴의 에너지 해석으로 에...</td>\n",
       "      <td>성공경험</td>\n",
       "    </tr>\n",
       "    <tr>\n",
       "      <th>1</th>\n",
       "      <td>최종으로 충격시험과 설문조사를 통한 인체실험으로 헬멧 착용시 자해 사망률이 1/3배...</td>\n",
       "      <td>성공경험</td>\n",
       "    </tr>\n",
       "    <tr>\n",
       "      <th>2</th>\n",
       "      <td>아르바이트를 통해, '몰입하면 일이 진심으로 재밌어진다' 는 경험을 했습니다.</td>\n",
       "      <td>성공경험</td>\n",
       "    </tr>\n",
       "    <tr>\n",
       "      <th>3</th>\n",
       "      <td>그도 그럴것이, 놀이공원 아르바이트중에는 온몸이 새카맣게 타며 3개월만에 부서 대표...</td>\n",
       "      <td>성공경험</td>\n",
       "    </tr>\n",
       "    <tr>\n",
       "      <th>4</th>\n",
       "      <td>해외 봉사시 80개 이상 농가에 '김지희를 판매하는' 적극성을 보였습니다.</td>\n",
       "      <td>성공경험</td>\n",
       "    </tr>\n",
       "  </tbody>\n",
       "</table>\n",
       "</div>"
      ],
      "text/plain": [
       "                                            Sentence Label\n",
       "0  총탄의 살상력 비교 연구에서 다른 사람들이 놓친 방식인 젤라틴의 에너지 해석으로 에...  성공경험\n",
       "1  최종으로 충격시험과 설문조사를 통한 인체실험으로 헬멧 착용시 자해 사망률이 1/3배...  성공경험\n",
       "2        아르바이트를 통해, '몰입하면 일이 진심으로 재밌어진다' 는 경험을 했습니다.  성공경험\n",
       "3  그도 그럴것이, 놀이공원 아르바이트중에는 온몸이 새카맣게 타며 3개월만에 부서 대표...  성공경험\n",
       "4          해외 봉사시 80개 이상 농가에 '김지희를 판매하는' 적극성을 보였습니다.  성공경험"
      ]
     },
     "execution_count": 40,
     "metadata": {},
     "output_type": "execute_result"
    }
   ],
   "source": [
    "test_df = pd.read_csv('data_test.csv')\n",
    "test_df.head()"
   ]
  },
  {
   "cell_type": "code",
   "execution_count": 41,
   "id": "4ce1c336-08b0-44ca-a8fa-71d4a8458a6b",
   "metadata": {
    "collapsed": true,
    "jupyter": {
     "outputs_hidden": true
    },
    "tags": []
   },
   "outputs": [
    {
     "data": {
      "text/plain": [
       "[['총탄',\n",
       "  '살상',\n",
       "  '력',\n",
       "  '비교',\n",
       "  '연구',\n",
       "  '에서',\n",
       "  '다른',\n",
       "  '사람',\n",
       "  '놓친',\n",
       "  '방식',\n",
       "  '인',\n",
       "  '젤라틴',\n",
       "  '에너지',\n",
       "  '해석',\n",
       "  '에너지',\n",
       "  '소산',\n",
       "  '분석',\n",
       "  '을',\n",
       "  '하여',\n",
       "  '논문',\n",
       "  '을',\n",
       "  '완성',\n",
       "  '했습니다',\n",
       "  '.'],\n",
       " ['최종',\n",
       "  '충격시험',\n",
       "  '설문조사',\n",
       "  '통한',\n",
       "  '인체실험',\n",
       "  '헬멧',\n",
       "  '착용',\n",
       "  '시',\n",
       "  '자해',\n",
       "  '사망률',\n",
       "  '1/3',\n",
       "  '배',\n",
       "  '됨을',\n",
       "  '확인',\n",
       "  '하고',\n",
       "  '기도',\n",
       "  '압박',\n",
       "  '문제',\n",
       "  '해결',\n",
       "  '을',\n",
       "  '위',\n",
       "  '구',\n",
       "  '조로',\n",
       "  '개선',\n",
       "  '을',\n",
       "  '제안',\n",
       "  '했습니다',\n",
       "  '.'],\n",
       " ['아르바이트',\n",
       "  '통해',\n",
       "  ',',\n",
       "  \"'\",\n",
       "  '몰입',\n",
       "  '하면',\n",
       "  '일이',\n",
       "  '진심',\n",
       "  '재밌어진다',\n",
       "  \"'\",\n",
       "  '경험',\n",
       "  '을',\n",
       "  '했습니다',\n",
       "  '.'],\n",
       " ['그',\n",
       "  '도',\n",
       "  '그럴것이',\n",
       "  ',',\n",
       "  '놀이',\n",
       "  '공원',\n",
       "  '아르바이트',\n",
       "  '중',\n",
       "  '에는',\n",
       "  '온몸',\n",
       "  '새카맣',\n",
       "  '게',\n",
       "  '타며',\n",
       "  '3',\n",
       "  '개월',\n",
       "  '만에',\n",
       "  '부서',\n",
       "  '대표',\n",
       "  '로',\n",
       "  '상',\n",
       "  '을',\n",
       "  '받았고',\n",
       "  ',',\n",
       "  '교환학생',\n",
       "  '출국',\n",
       "  '일',\n",
       "  '까지',\n",
       "  '미루며',\n",
       "  '근무',\n",
       "  '했습니다',\n",
       "  '.'],\n",
       " ['해외',\n",
       "  '봉사',\n",
       "  '시',\n",
       "  '80',\n",
       "  '개',\n",
       "  '이상',\n",
       "  '농가',\n",
       "  \"'\",\n",
       "  '김지희',\n",
       "  '판매',\n",
       "  '하는',\n",
       "  \"'\",\n",
       "  '적극성',\n",
       "  '을',\n",
       "  '보였습니다',\n",
       "  '.']]"
      ]
     },
     "execution_count": 41,
     "metadata": {},
     "output_type": "execute_result"
    }
   ],
   "source": [
    "x_4th_train = []\n",
    "# co = 0\n",
    "for sentence in test_df['Sentence']:\n",
    "  temp_x = tokenizer.morphs(sentence)\n",
    "  temp_x = [word for word in temp_x if word not in stop_words]\n",
    "  x_4th_train.append(temp_x)\n",
    "  # co =+ 1\n",
    "  # if co % 1000 == 0:\n",
    "  #   print(co, end=' ')\n",
    "\n",
    "# print(len(x_4th_train))\n",
    "x_4th_train[:5]"
   ]
  },
  {
   "cell_type": "code",
   "execution_count": 42,
   "id": "c19dfa9e-34a3-4404-bf65-2af26255be48",
   "metadata": {},
   "outputs": [
    {
     "name": "stdout",
     "output_type": "stream",
     "text": [
      "[[2, 4375, 105, 852, 255, 9, 158, 67, 2, 268, 19, 4374, 972, 912, 972, 2, 28, 4, 14, 418, 4, 278, 21, 5], [415, 2, 993, 324, 2, 2, 6343, 283, 2, 2, 2, 508, 8447, 306, 13, 1360, 2, 60, 61, 4, 52, 345, 6692, 139, 4, 292, 21, 5], [453, 18, 6, 42, 2518, 540, 483, 1922, 2, 42, 15, 4, 21, 5]]\n"
     ]
    }
   ],
   "source": [
    "x_4th_train = list(map(wordlist_to_indexlist, x_4th_train))\n",
    "print(x_4th_train[:3])"
   ]
  },
  {
   "cell_type": "code",
   "execution_count": 43,
   "id": "6146e459-35d9-45df-977e-55944dbeba8c",
   "metadata": {
    "tags": []
   },
   "outputs": [
    {
     "data": {
      "text/plain": [
       "array([[   0,    0,    0,    0,    0,    0,    0,    0,    0,    0,    0,\n",
       "           0,    0,    0,    0,    0,    0,    0,    0,    0,    0,    0,\n",
       "           0,    0,    0,    0,    0,    0,    0,    0,    0,    0,    0,\n",
       "           0,    0,    0,    0,    0,    0,    0,    0,    0,    0,    0,\n",
       "           0,    0,    0,    0,    0,    0,    0,    0,    0,    0,    0,\n",
       "           0,    0,    0,    0,    0,    0,    0,    0,    0,    0,    0,\n",
       "           0,    0,    0,    0,    0,    0,    0,    0,    0,    0,    0,\n",
       "           0,    0,    0,    0,    0,    0,    0,    0,    0,    0,    0,\n",
       "           0,    0,    0,    0,    2, 4375,  105,  852,  255,    9,  158,\n",
       "          67,    2,  268,   19, 4374,  972,  912,  972,    2,   28,    4,\n",
       "          14,  418,    4,  278,   21,    5],\n",
       "       [   0,    0,    0,    0,    0,    0,    0,    0,    0,    0,    0,\n",
       "           0,    0,    0,    0,    0,    0,    0,    0,    0,    0,    0,\n",
       "           0,    0,    0,    0,    0,    0,    0,    0,    0,    0,    0,\n",
       "           0,    0,    0,    0,    0,    0,    0,    0,    0,    0,    0,\n",
       "           0,    0,    0,    0,    0,    0,    0,    0,    0,    0,    0,\n",
       "           0,    0,    0,    0,    0,    0,    0,    0,    0,    0,    0,\n",
       "           0,    0,    0,    0,    0,    0,    0,    0,    0,    0,    0,\n",
       "           0,    0,    0,    0,    0,    0,    0,    0,    0,    0,    0,\n",
       "         415,    2,  993,  324,    2,    2, 6343,  283,    2,    2,    2,\n",
       "         508, 8447,  306,   13, 1360,    2,   60,   61,    4,   52,  345,\n",
       "        6692,  139,    4,  292,   21,    5],\n",
       "       [   0,    0,    0,    0,    0,    0,    0,    0,    0,    0,    0,\n",
       "           0,    0,    0,    0,    0,    0,    0,    0,    0,    0,    0,\n",
       "           0,    0,    0,    0,    0,    0,    0,    0,    0,    0,    0,\n",
       "           0,    0,    0,    0,    0,    0,    0,    0,    0,    0,    0,\n",
       "           0,    0,    0,    0,    0,    0,    0,    0,    0,    0,    0,\n",
       "           0,    0,    0,    0,    0,    0,    0,    0,    0,    0,    0,\n",
       "           0,    0,    0,    0,    0,    0,    0,    0,    0,    0,    0,\n",
       "           0,    0,    0,    0,    0,    0,    0,    0,    0,    0,    0,\n",
       "           0,    0,    0,    0,    0,    0,    0,    0,    0,    0,    0,\n",
       "           0,    0,    0,  453,   18,    6,   42, 2518,  540,  483, 1922,\n",
       "           2,   42,   15,    4,   21,    5]], dtype=int32)"
      ]
     },
     "execution_count": 43,
     "metadata": {},
     "output_type": "execute_result"
    }
   ],
   "source": [
    "x_4th_train = pad_sequences(x_4th_train, maxlen=maxlen, value=word_to_index['<PAD>'], padding='pre')\n",
    "x_4th_train[:3]"
   ]
  },
  {
   "cell_type": "code",
   "execution_count": 45,
   "id": "c830f8b4-394d-484a-aa62-00c6767b4024",
   "metadata": {},
   "outputs": [
    {
     "name": "stdout",
     "output_type": "stream",
     "text": [
      "[2 2 2]\n"
     ]
    }
   ],
   "source": [
    "from sklearn import preprocessing\n",
    "enc = preprocessing.LabelEncoder()\n",
    "y_4th_train = np.array(enc.fit_transform(test_df['Label']))\n",
    "# y_train = np.array(list(df['Label']))\n",
    "print(y_4th_train[:3])"
   ]
  },
  {
   "cell_type": "code",
   "execution_count": 46,
   "id": "75b96073-a9d0-4853-b70c-0b223048d13a",
   "metadata": {},
   "outputs": [
    {
     "name": "stdout",
     "output_type": "stream",
     "text": [
      "검증_Accuracy: 0.5235042735042735\n",
      "                precision    recall  f1-score   support\n",
      "\n",
      "          성공경험       0.39      0.60      0.47       249\n",
      "지원동기 및 입사 후 포부       0.63      0.10      0.18       115\n",
      "            강점       0.53      0.60      0.57       293\n",
      "            단점       0.76      0.54      0.64       279\n",
      "\n",
      "      accuracy                           0.52       936\n",
      "     macro avg       0.58      0.46      0.46       936\n",
      "  weighted avg       0.58      0.52      0.51       936\n",
      "\n"
     ]
    }
   ],
   "source": [
    "##########모델 검증\n",
    "\n",
    "labels = list(df.iloc[:,1].unique())\n",
    " \n",
    "print(f'검증_Accuracy: {model.score(x_4th_train, y_4th_train)}') \n",
    "\n",
    "# #평가 리포트\n",
    "from sklearn.metrics import classification_report\n",
    "y_4th_predict = model.predict(x_4th_train)\n",
    "print(classification_report(y_4th_train,y_4th_predict,target_names=labels))"
   ]
  },
  {
   "cell_type": "code",
   "execution_count": null,
   "id": "584745d0-3a00-44fa-a351-fce63d996673",
   "metadata": {},
   "outputs": [],
   "source": []
  },
  {
   "cell_type": "code",
   "execution_count": null,
   "id": "5db09a78-0f4a-41cc-bfb8-f5c945594067",
   "metadata": {},
   "outputs": [],
   "source": []
  },
  {
   "cell_type": "code",
   "execution_count": 47,
   "id": "2d04e564-2066-48ef-87ee-eb93036da130",
   "metadata": {},
   "outputs": [
    {
     "data": {
      "text/plain": [
       "((748, 116), (188, 116), (748,), (188,))"
      ]
     },
     "execution_count": 47,
     "metadata": {},
     "output_type": "execute_result"
    }
   ],
   "source": [
    "train_4th_x, val_4th_x, train_4th_y, val_4th_y = train_test_split(x_4th_train, y_4th_train, test_size=0.2)\n",
    "train_4th_x.shape, val_4th_x.shape, train_4th_y.shape, val_4th_y.shape"
   ]
  },
  {
   "cell_type": "code",
   "execution_count": 48,
   "id": "3c1a319e-e5bd-4c9c-899e-68c4aa45ffd9",
   "metadata": {},
   "outputs": [
    {
     "data": {
      "text/html": [
       "<style>#sk-container-id-5 {color: black;}#sk-container-id-5 pre{padding: 0;}#sk-container-id-5 div.sk-toggleable {background-color: white;}#sk-container-id-5 label.sk-toggleable__label {cursor: pointer;display: block;width: 100%;margin-bottom: 0;padding: 0.3em;box-sizing: border-box;text-align: center;}#sk-container-id-5 label.sk-toggleable__label-arrow:before {content: \"▸\";float: left;margin-right: 0.25em;color: #696969;}#sk-container-id-5 label.sk-toggleable__label-arrow:hover:before {color: black;}#sk-container-id-5 div.sk-estimator:hover label.sk-toggleable__label-arrow:before {color: black;}#sk-container-id-5 div.sk-toggleable__content {max-height: 0;max-width: 0;overflow: hidden;text-align: left;background-color: #f0f8ff;}#sk-container-id-5 div.sk-toggleable__content pre {margin: 0.2em;color: black;border-radius: 0.25em;background-color: #f0f8ff;}#sk-container-id-5 input.sk-toggleable__control:checked~div.sk-toggleable__content {max-height: 200px;max-width: 100%;overflow: auto;}#sk-container-id-5 input.sk-toggleable__control:checked~label.sk-toggleable__label-arrow:before {content: \"▾\";}#sk-container-id-5 div.sk-estimator input.sk-toggleable__control:checked~label.sk-toggleable__label {background-color: #d4ebff;}#sk-container-id-5 div.sk-label input.sk-toggleable__control:checked~label.sk-toggleable__label {background-color: #d4ebff;}#sk-container-id-5 input.sk-hidden--visually {border: 0;clip: rect(1px 1px 1px 1px);clip: rect(1px, 1px, 1px, 1px);height: 1px;margin: -1px;overflow: hidden;padding: 0;position: absolute;width: 1px;}#sk-container-id-5 div.sk-estimator {font-family: monospace;background-color: #f0f8ff;border: 1px dotted black;border-radius: 0.25em;box-sizing: border-box;margin-bottom: 0.5em;}#sk-container-id-5 div.sk-estimator:hover {background-color: #d4ebff;}#sk-container-id-5 div.sk-parallel-item::after {content: \"\";width: 100%;border-bottom: 1px solid gray;flex-grow: 1;}#sk-container-id-5 div.sk-label:hover label.sk-toggleable__label {background-color: #d4ebff;}#sk-container-id-5 div.sk-serial::before {content: \"\";position: absolute;border-left: 1px solid gray;box-sizing: border-box;top: 0;bottom: 0;left: 50%;z-index: 0;}#sk-container-id-5 div.sk-serial {display: flex;flex-direction: column;align-items: center;background-color: white;padding-right: 0.2em;padding-left: 0.2em;position: relative;}#sk-container-id-5 div.sk-item {position: relative;z-index: 1;}#sk-container-id-5 div.sk-parallel {display: flex;align-items: stretch;justify-content: center;background-color: white;position: relative;}#sk-container-id-5 div.sk-item::before, #sk-container-id-5 div.sk-parallel-item::before {content: \"\";position: absolute;border-left: 1px solid gray;box-sizing: border-box;top: 0;bottom: 0;left: 50%;z-index: -1;}#sk-container-id-5 div.sk-parallel-item {display: flex;flex-direction: column;z-index: 1;position: relative;background-color: white;}#sk-container-id-5 div.sk-parallel-item:first-child::after {align-self: flex-end;width: 50%;}#sk-container-id-5 div.sk-parallel-item:last-child::after {align-self: flex-start;width: 50%;}#sk-container-id-5 div.sk-parallel-item:only-child::after {width: 0;}#sk-container-id-5 div.sk-dashed-wrapped {border: 1px dashed gray;margin: 0 0.4em 0.5em 0.4em;box-sizing: border-box;padding-bottom: 0.4em;background-color: white;}#sk-container-id-5 div.sk-label label {font-family: monospace;font-weight: bold;display: inline-block;line-height: 1.2em;}#sk-container-id-5 div.sk-label-container {text-align: center;}#sk-container-id-5 div.sk-container {/* jupyter's `normalize.less` sets `[hidden] { display: none; }` but bootstrap.min.css set `[hidden] { display: none !important; }` so we also need the `!important` here to be able to override the default hidden behavior on the sphinx rendered scikit-learn.org. See: https://github.com/scikit-learn/scikit-learn/issues/21755 */display: inline-block !important;position: relative;}#sk-container-id-5 div.sk-text-repr-fallback {display: none;}</style><div id=\"sk-container-id-5\" class=\"sk-top-container\"><div class=\"sk-text-repr-fallback\"><pre>GradientBoostingClassifier(random_state=43)</pre><b>In a Jupyter environment, please rerun this cell to show the HTML representation or trust the notebook. <br />On GitHub, the HTML representation is unable to render, please try loading this page with nbviewer.org.</b></div><div class=\"sk-container\" hidden><div class=\"sk-item\"><div class=\"sk-estimator sk-toggleable\"><input class=\"sk-toggleable__control sk-hidden--visually\" id=\"sk-estimator-id-5\" type=\"checkbox\" checked><label for=\"sk-estimator-id-5\" class=\"sk-toggleable__label sk-toggleable__label-arrow\">GradientBoostingClassifier</label><div class=\"sk-toggleable__content\"><pre>GradientBoostingClassifier(random_state=43)</pre></div></div></div></div></div>"
      ],
      "text/plain": [
       "GradientBoostingClassifier(random_state=43)"
      ]
     },
     "execution_count": 48,
     "metadata": {},
     "output_type": "execute_result"
    }
   ],
   "source": [
    "model = GradientBoostingClassifier(random_state=43)\n",
    "##########모델 학습\n",
    "model.fit(train_4th_x , train_4th_y)"
   ]
  },
  {
   "cell_type": "code",
   "execution_count": 51,
   "id": "690b1e22-3074-48a2-a0d4-65b4e45cde68",
   "metadata": {},
   "outputs": [
    {
     "name": "stdout",
     "output_type": "stream",
     "text": [
      "훈련_Accuracy: 0.9425133689839572\n",
      "테스트_Accuracy: 0.526595744680851\n",
      "                precision    recall  f1-score   support\n",
      "\n",
      "          성공경험       0.48      0.46      0.47        52\n",
      "지원동기 및 입사 후 포부       0.38      0.14      0.21        21\n",
      "            강점       0.50      0.56      0.53        61\n",
      "            단점       0.61      0.70      0.66        54\n",
      "\n",
      "      accuracy                           0.53       188\n",
      "     macro avg       0.49      0.47      0.46       188\n",
      "  weighted avg       0.51      0.53      0.51       188\n",
      "\n"
     ]
    }
   ],
   "source": [
    "##########모델 검증\n",
    "\n",
    "labels = list(df.iloc[:,1].unique())\n",
    "\n",
    "print(f'훈련_Accuracy: {model.score(train_4th_x, train_4th_y)}') \n",
    "print(f'테스트_Accuracy: {model.score(val_4th_x, val_4th_y)}') \n",
    "\n",
    "# #평가 리포트\n",
    "from sklearn.metrics import classification_report\n",
    "predict_4th_y = model.predict(val_4th_x)\n",
    "print(classification_report(val_4th_y,predict_4th_y,target_names=labels))"
   ]
  },
  {
   "cell_type": "code",
   "execution_count": 52,
   "id": "7e376271-9f3d-400b-ba25-ddeb0c9d53ea",
   "metadata": {
    "tags": []
   },
   "outputs": [
    {
     "data": {
      "text/html": [
       "<style>#sk-container-id-6 {color: black;}#sk-container-id-6 pre{padding: 0;}#sk-container-id-6 div.sk-toggleable {background-color: white;}#sk-container-id-6 label.sk-toggleable__label {cursor: pointer;display: block;width: 100%;margin-bottom: 0;padding: 0.3em;box-sizing: border-box;text-align: center;}#sk-container-id-6 label.sk-toggleable__label-arrow:before {content: \"▸\";float: left;margin-right: 0.25em;color: #696969;}#sk-container-id-6 label.sk-toggleable__label-arrow:hover:before {color: black;}#sk-container-id-6 div.sk-estimator:hover label.sk-toggleable__label-arrow:before {color: black;}#sk-container-id-6 div.sk-toggleable__content {max-height: 0;max-width: 0;overflow: hidden;text-align: left;background-color: #f0f8ff;}#sk-container-id-6 div.sk-toggleable__content pre {margin: 0.2em;color: black;border-radius: 0.25em;background-color: #f0f8ff;}#sk-container-id-6 input.sk-toggleable__control:checked~div.sk-toggleable__content {max-height: 200px;max-width: 100%;overflow: auto;}#sk-container-id-6 input.sk-toggleable__control:checked~label.sk-toggleable__label-arrow:before {content: \"▾\";}#sk-container-id-6 div.sk-estimator input.sk-toggleable__control:checked~label.sk-toggleable__label {background-color: #d4ebff;}#sk-container-id-6 div.sk-label input.sk-toggleable__control:checked~label.sk-toggleable__label {background-color: #d4ebff;}#sk-container-id-6 input.sk-hidden--visually {border: 0;clip: rect(1px 1px 1px 1px);clip: rect(1px, 1px, 1px, 1px);height: 1px;margin: -1px;overflow: hidden;padding: 0;position: absolute;width: 1px;}#sk-container-id-6 div.sk-estimator {font-family: monospace;background-color: #f0f8ff;border: 1px dotted black;border-radius: 0.25em;box-sizing: border-box;margin-bottom: 0.5em;}#sk-container-id-6 div.sk-estimator:hover {background-color: #d4ebff;}#sk-container-id-6 div.sk-parallel-item::after {content: \"\";width: 100%;border-bottom: 1px solid gray;flex-grow: 1;}#sk-container-id-6 div.sk-label:hover label.sk-toggleable__label {background-color: #d4ebff;}#sk-container-id-6 div.sk-serial::before {content: \"\";position: absolute;border-left: 1px solid gray;box-sizing: border-box;top: 0;bottom: 0;left: 50%;z-index: 0;}#sk-container-id-6 div.sk-serial {display: flex;flex-direction: column;align-items: center;background-color: white;padding-right: 0.2em;padding-left: 0.2em;position: relative;}#sk-container-id-6 div.sk-item {position: relative;z-index: 1;}#sk-container-id-6 div.sk-parallel {display: flex;align-items: stretch;justify-content: center;background-color: white;position: relative;}#sk-container-id-6 div.sk-item::before, #sk-container-id-6 div.sk-parallel-item::before {content: \"\";position: absolute;border-left: 1px solid gray;box-sizing: border-box;top: 0;bottom: 0;left: 50%;z-index: -1;}#sk-container-id-6 div.sk-parallel-item {display: flex;flex-direction: column;z-index: 1;position: relative;background-color: white;}#sk-container-id-6 div.sk-parallel-item:first-child::after {align-self: flex-end;width: 50%;}#sk-container-id-6 div.sk-parallel-item:last-child::after {align-self: flex-start;width: 50%;}#sk-container-id-6 div.sk-parallel-item:only-child::after {width: 0;}#sk-container-id-6 div.sk-dashed-wrapped {border: 1px dashed gray;margin: 0 0.4em 0.5em 0.4em;box-sizing: border-box;padding-bottom: 0.4em;background-color: white;}#sk-container-id-6 div.sk-label label {font-family: monospace;font-weight: bold;display: inline-block;line-height: 1.2em;}#sk-container-id-6 div.sk-label-container {text-align: center;}#sk-container-id-6 div.sk-container {/* jupyter's `normalize.less` sets `[hidden] { display: none; }` but bootstrap.min.css set `[hidden] { display: none !important; }` so we also need the `!important` here to be able to override the default hidden behavior on the sphinx rendered scikit-learn.org. See: https://github.com/scikit-learn/scikit-learn/issues/21755 */display: inline-block !important;position: relative;}#sk-container-id-6 div.sk-text-repr-fallback {display: none;}</style><div id=\"sk-container-id-6\" class=\"sk-top-container\"><div class=\"sk-text-repr-fallback\"><pre>XGBClassifier(base_score=None, booster=None, callbacks=None,\n",
       "              colsample_bylevel=None, colsample_bynode=None,\n",
       "              colsample_bytree=None, device=None, early_stopping_rounds=None,\n",
       "              enable_categorical=False, eval_metric=None, feature_types=None,\n",
       "              gamma=None, grow_policy=None, importance_type=None,\n",
       "              interaction_constraints=None, learning_rate=None, max_bin=None,\n",
       "              max_cat_threshold=None, max_cat_to_onehot=None,\n",
       "              max_delta_step=None, max_depth=None, max_leaves=None,\n",
       "              min_child_weight=None, missing=nan, monotone_constraints=None,\n",
       "              multi_strategy=None, n_estimators=200, n_jobs=None,\n",
       "              num_parallel_tree=None, objective=&#x27;multi:softprob&#x27;, ...)</pre><b>In a Jupyter environment, please rerun this cell to show the HTML representation or trust the notebook. <br />On GitHub, the HTML representation is unable to render, please try loading this page with nbviewer.org.</b></div><div class=\"sk-container\" hidden><div class=\"sk-item\"><div class=\"sk-estimator sk-toggleable\"><input class=\"sk-toggleable__control sk-hidden--visually\" id=\"sk-estimator-id-6\" type=\"checkbox\" checked><label for=\"sk-estimator-id-6\" class=\"sk-toggleable__label sk-toggleable__label-arrow\">XGBClassifier</label><div class=\"sk-toggleable__content\"><pre>XGBClassifier(base_score=None, booster=None, callbacks=None,\n",
       "              colsample_bylevel=None, colsample_bynode=None,\n",
       "              colsample_bytree=None, device=None, early_stopping_rounds=None,\n",
       "              enable_categorical=False, eval_metric=None, feature_types=None,\n",
       "              gamma=None, grow_policy=None, importance_type=None,\n",
       "              interaction_constraints=None, learning_rate=None, max_bin=None,\n",
       "              max_cat_threshold=None, max_cat_to_onehot=None,\n",
       "              max_delta_step=None, max_depth=None, max_leaves=None,\n",
       "              min_child_weight=None, missing=nan, monotone_constraints=None,\n",
       "              multi_strategy=None, n_estimators=200, n_jobs=None,\n",
       "              num_parallel_tree=None, objective=&#x27;multi:softprob&#x27;, ...)</pre></div></div></div></div></div>"
      ],
      "text/plain": [
       "XGBClassifier(base_score=None, booster=None, callbacks=None,\n",
       "              colsample_bylevel=None, colsample_bynode=None,\n",
       "              colsample_bytree=None, device=None, early_stopping_rounds=None,\n",
       "              enable_categorical=False, eval_metric=None, feature_types=None,\n",
       "              gamma=None, grow_policy=None, importance_type=None,\n",
       "              interaction_constraints=None, learning_rate=None, max_bin=None,\n",
       "              max_cat_threshold=None, max_cat_to_onehot=None,\n",
       "              max_delta_step=None, max_depth=None, max_leaves=None,\n",
       "              min_child_weight=None, missing=nan, monotone_constraints=None,\n",
       "              multi_strategy=None, n_estimators=200, n_jobs=None,\n",
       "              num_parallel_tree=None, objective='multi:softprob', ...)"
      ]
     },
     "execution_count": 52,
     "metadata": {},
     "output_type": "execute_result"
    }
   ],
   "source": [
    "model = XGBClassifier(n_estimators=200)\n",
    "model.fit(train_4th_x, train_4th_y, early_stopping_rounds=20, eval_metric=\"mlogloss\", eval_set=[(val_4th_x, val_4th_y)], verbose=False)"
   ]
  },
  {
   "cell_type": "code",
   "execution_count": 53,
   "id": "c7259ea6-88ed-4161-852a-7426f3d14c6c",
   "metadata": {},
   "outputs": [
    {
     "name": "stdout",
     "output_type": "stream",
     "text": [
      "훈련_Accuracy: 0.4490254872563718\n",
      "테스트_Accuracy: 0.46776611694152925\n",
      "                precision    recall  f1-score   support\n",
      "\n",
      "          성공경험       0.43      0.31      0.36       215\n",
      "지원동기 및 입사 후 포부       0.23      0.15      0.18        54\n",
      "            강점       0.55      0.52      0.54       246\n",
      "            단점       0.45      0.72      0.55       152\n",
      "\n",
      "      accuracy                           0.47       667\n",
      "     macro avg       0.41      0.42      0.41       667\n",
      "  weighted avg       0.46      0.47      0.45       667\n",
      "\n"
     ]
    }
   ],
   "source": [
    "##########모델 검증\n",
    "\n",
    "labels = list(df.iloc[:,1].unique())\n",
    "\n",
    "print(f'훈련_Accuracy: {model.score(train_x, train_y)}') \n",
    "print(f'테스트_Accuracy: {model.score(val_x, val_y)}') \n",
    "\n",
    "# #평가 리포트\n",
    "from sklearn.metrics import classification_report\n",
    "predict_y = model.predict(val_x)\n",
    "print(classification_report(val_y,predict_y,target_names=labels))"
   ]
  },
  {
   "cell_type": "code",
   "execution_count": null,
   "id": "b20b863e-5dfe-4cc4-949a-809b7f0ab042",
   "metadata": {},
   "outputs": [],
   "source": []
  }
 ],
 "metadata": {
  "kernelspec": {
   "display_name": "Python 3 (ipykernel)",
   "language": "python",
   "name": "python3"
  },
  "language_info": {
   "codemirror_mode": {
    "name": "ipython",
    "version": 3
   },
   "file_extension": ".py",
   "mimetype": "text/x-python",
   "name": "python",
   "nbconvert_exporter": "python",
   "pygments_lexer": "ipython3",
   "version": "3.10.12"
  }
 },
 "nbformat": 4,
 "nbformat_minor": 5
}
